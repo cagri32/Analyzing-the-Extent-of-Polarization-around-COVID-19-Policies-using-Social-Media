{
  "nbformat": 4,
  "nbformat_minor": 0,
  "metadata": {
    "colab": {
      "name": "Tutorial",
      "provenance": [],
      "collapsed_sections": [],
      "authorship_tag": "ABX9TyN3FX4UPpaKhkU8FxlJITTK",
      "include_colab_link": true
    },
    "kernelspec": {
      "name": "python3",
      "display_name": "Python 3"
    },
    "language_info": {
      "name": "python"
    },
    "widgets": {
      "application/vnd.jupyter.widget-state+json": {
        "866b07674f73481eb672d27b54acd584": {
          "model_module": "@jupyter-widgets/controls",
          "model_name": "DropdownModel",
          "model_module_version": "1.5.0",
          "state": {
            "_options_labels": [
              "all",
              "am",
              "ar",
              "bg",
              "bn",
              "ca",
              "ckb",
              "cs",
              "cy",
              "da",
              "de",
              "dv",
              "el",
              "en",
              "es",
              "et",
              "eu",
              "fa",
              "fi",
              "fr",
              "gu",
              "hi",
              "ht",
              "hu",
              "hy",
              "in",
              "is",
              "it",
              "iw",
              "ja",
              "ka",
              "km",
              "kn",
              "ko",
              "lo",
              "lt",
              "lv",
              "ml",
              "mr",
              "my",
              "ne",
              "nl",
              "no",
              "or",
              "pa",
              "pl",
              "ps",
              "pt",
              "ro",
              "ru",
              "sd",
              "si",
              "sl",
              "sr",
              "sv",
              "ta",
              "te",
              "th",
              "tl",
              "tr",
              "uk",
              "und",
              "ur",
              "vi",
              "zh"
            ],
            "_view_name": "DropdownView",
            "style": "IPY_MODEL_e23aa6a00f6c420cae80b706d65333ff",
            "_dom_classes": [],
            "description": "",
            "_model_name": "DropdownModel",
            "index": 13,
            "_view_module": "@jupyter-widgets/controls",
            "_model_module_version": "1.5.0",
            "_view_count": null,
            "disabled": false,
            "_view_module_version": "1.5.0",
            "description_tooltip": null,
            "_model_module": "@jupyter-widgets/controls",
            "layout": "IPY_MODEL_0a21392723324199850e2ce1713280b8"
          }
        },
        "e23aa6a00f6c420cae80b706d65333ff": {
          "model_module": "@jupyter-widgets/controls",
          "model_name": "DescriptionStyleModel",
          "model_module_version": "1.5.0",
          "state": {
            "_view_name": "StyleView",
            "_model_name": "DescriptionStyleModel",
            "description_width": "",
            "_view_module": "@jupyter-widgets/base",
            "_model_module_version": "1.5.0",
            "_view_count": null,
            "_view_module_version": "1.2.0",
            "_model_module": "@jupyter-widgets/controls"
          }
        },
        "0a21392723324199850e2ce1713280b8": {
          "model_module": "@jupyter-widgets/base",
          "model_name": "LayoutModel",
          "model_module_version": "1.2.0",
          "state": {
            "_view_name": "LayoutView",
            "grid_template_rows": null,
            "right": null,
            "justify_content": null,
            "_view_module": "@jupyter-widgets/base",
            "overflow": null,
            "_model_module_version": "1.2.0",
            "_view_count": null,
            "flex_flow": null,
            "width": null,
            "min_width": null,
            "border": null,
            "align_items": null,
            "bottom": null,
            "_model_module": "@jupyter-widgets/base",
            "top": null,
            "grid_column": null,
            "overflow_y": null,
            "overflow_x": null,
            "grid_auto_flow": null,
            "grid_area": null,
            "grid_template_columns": null,
            "flex": null,
            "_model_name": "LayoutModel",
            "justify_items": null,
            "grid_row": null,
            "max_height": null,
            "align_content": null,
            "visibility": null,
            "align_self": null,
            "height": null,
            "min_height": null,
            "padding": null,
            "grid_auto_rows": null,
            "grid_gap": null,
            "max_width": null,
            "order": null,
            "_view_module_version": "1.2.0",
            "grid_template_areas": null,
            "object_position": null,
            "object_fit": null,
            "grid_auto_columns": null,
            "margin": null,
            "display": null,
            "left": null
          }
        }
      }
    }
  },
  "cells": [
    {
      "cell_type": "markdown",
      "metadata": {
        "id": "view-in-github",
        "colab_type": "text"
      },
      "source": [
        "<a href=\"https://colab.research.google.com/github/cagri32/Analyzing-the-Extent-of-Polarization-around-COVID-19-Policies-using-Social-Media/blob/main/Tutorial.ipynb\" target=\"_parent\"><img src=\"https://colab.research.google.com/assets/colab-badge.svg\" alt=\"Open In Colab\"/></a>"
      ]
    },
    {
      "cell_type": "markdown",
      "metadata": {
        "id": "RfoWPoVH1nw-"
      },
      "source": [
        "\n",
        "tutorial.ipynb\n",
        "\n",
        "Automatically generated by Colaboratory.\n",
        "\n",
        "Original file is located at\n",
        "    https://colab.research.google.com/drive/1CU6bPzyd1dU9i1ye6-nuci_2WNy60zaZ\n",
        "\n",
        "# **COVID-19 Dataset - How to use it?**\n",
        "\n",
        "## ***Background***\n",
        "\n",
        "Due to the relevance of the COVID-19 global pandemic, we are releasing our dataset of tweets acquired from the Twitter Stream related to COVID-19 chatter. \n",
        "\n",
        "The data collected from the stream captures all languages, but the higher prevalence are:  English, Spanish, and French. We release all tweets and retweets on the full_dataset.tsv file, and a cleaned version with no retweets on the full_dataset-clean.tsv file .\n",
        "\n",
        "The main repository for this dataset (and latest version) can be found here https://doi.org/10.5281/zenodo.3723939\n",
        "\n",
        "Intermediate bi-weekly updates are posted here: https://github.com/thepanacealab/covid19_twitter\n",
        "\n",
        "As always, the tweets distributed here are only tweet identifiers (with date and time added) due to the terms and conditions of Twitter to re-distribute Twitter data. They need to be hydrated to be used.\n",
        "\n",
        "If you are using our dataset, please cite our preprint:\n",
        "https://arxiv.org/abs/2004.03688\n",
        "\n",
        "## ***Introduction***\n",
        "\n",
        "\n",
        "In this tutorial, we will explain in a clear and detailed way how to use the data sets generated from this repository (https://github.com/thepanacealab/covid19_twitter/tree/master/dailies). It will explain how the process of hydration of tweets is done, the process of parsing, and an example that consists of counting the unique words of a certain dataset of tweets.\n",
        "\n"
      ]
    },
    {
      "cell_type": "markdown",
      "metadata": {
        "id": "EWNGJMucnirC"
      },
      "source": [
        "Requirements\n",
        "First, we are going to install the following modules:\n",
        "\n",
        "Twarc\n",
        "Tweepy (v. 3.8.0)\n",
        "Argparse (v 3.2)\n",
        "Xtract (v 0.1 a3)\n",
        "Wget (v 3.2)"
      ]
    },
    {
      "cell_type": "code",
      "metadata": {
        "id": "UVb1n6AMnlD1"
      },
      "source": [
        "from IPython.display import clear_output\n",
        "!pip install twarc #Twarc\n",
        "!pip install tweepy # Tweepy 3.8.0\n",
        "!pip install argparse #Argparse 3.2\n",
        "!pip install xtract #Xtract 0.1 a3\n",
        "!pip install wget #Wget 3.2\n",
        "clear_output()"
      ],
      "execution_count": 1,
      "outputs": []
    },
    {
      "cell_type": "markdown",
      "metadata": {
        "id": "yws9X2j1nntB"
      },
      "source": [
        "Selecting the dataset and language\n",
        "The dataset used for this tutorial was downloaded from here: https://github.com/thepanacealab/covid19_twitter/blob/master/dailies/2020-07-13/2020-07-13-dataset.tsv.gz?raw=true\n",
        "\n",
        "More datasets can be obtained from here: https://github.com/thepanacealab/covid19_twitter/tree/master/dailies\n",
        "\n",
        "The structure of the dataset is made up of the following fields:\n",
        "\n",
        "tweet_id The integer representation of the unique identifier for this Tweet.\n",
        "date Date when the tweet was posted (YYYY-MM-DD)\n",
        "time Time when the tweet was posted (HH:mm:ss)\n",
        "lang Language in which the text is written. Represented by a 2-character language code. If language is unknown, the value will be shown as 'und' (undefined)\n",
        "country_code Two character string representing the country where the tweet was written. If not known, the field will show as NULL\n",
        "Filtering a dataset from a language is done by specifying the language code. More information about language codes can be found here:\n",
        "\n",
        "https://developer.twitter.com/en/docs/twitter-for-websites/supported-languages\n",
        "\n",
        "In this example,we are going to filter the dataset, so we can only obtain tweets in spanish (So, that means we are going to use the language code \"es\")\n",
        "\n",
        "IMPORTANT: In this tutorial, after running the following code, please select the desired language to filter from the dropdown field (which is shown in the output code). If we don't want to filter the dataset, just select \"all\" in the dropdown field."
      ]
    },
    {
      "cell_type": "code",
      "metadata": {
        "colab": {
          "base_uri": "https://localhost:8080/",
          "height": 49,
          "referenced_widgets": [
            "866b07674f73481eb672d27b54acd584",
            "e23aa6a00f6c420cae80b706d65333ff",
            "0a21392723324199850e2ce1713280b8"
          ]
        },
        "id": "AFn6-0BenseT",
        "outputId": "706caed4-364b-4cad-c20a-ae58aeebbc71"
      },
      "source": [
        "import gzip\n",
        "import shutil\n",
        "import os\n",
        "import wget\n",
        "import csv\n",
        "import linecache\n",
        "from shutil import copyfile\n",
        "import ipywidgets as widgets\n",
        "import numpy as np\n",
        "import pandas as pd\n",
        "\n",
        "dataset_URL = \"https://github.com/thepanacealab/covid19_twitter/blob/master/dailies/2020-12-21/2020-12-21-dataset.tsv.gz?raw=true\" #@param {type:\"string\"}\n",
        "\n",
        "\n",
        "#Downloads the dataset (compressed in a GZ format)\n",
        "#!wget dataset_URL -O dataset.tsv.gz\n",
        "wget.download(dataset_URL, out='dataset.tsv.gz')\n",
        "\n",
        "#Unzips the dataset and gets the TSV dataset\n",
        "with gzip.open('dataset.tsv.gz', 'rb') as f_in:\n",
        "    with open('dataset.tsv', 'wb') as f_out:\n",
        "        shutil.copyfileobj(f_in, f_out)\n",
        "\n",
        "#Deletes the compressed GZ file\n",
        "os.unlink(\"dataset.tsv.gz\")\n",
        "\n",
        "#Gets all possible languages from the dataset\n",
        "df = pd.read_csv('dataset.tsv',sep=\"\\t\")\n",
        "lang_list = df.lang.unique()\n",
        "lang_list= sorted(np.append(lang_list,'all'))\n",
        "lang_picker = widgets.Dropdown(options=lang_list, value=\"en\")\n",
        "lang_picker"
      ],
      "execution_count": 2,
      "outputs": [
        {
          "output_type": "display_data",
          "data": {
            "application/vnd.jupyter.widget-view+json": {
              "model_id": "866b07674f73481eb672d27b54acd584",
              "version_minor": 0,
              "version_major": 2
            },
            "text/plain": [
              "Dropdown(index=13, options=('all', 'am', 'ar', 'bg', 'bn', 'ca', 'ckb', 'cs', 'cy', 'da', 'de', 'dv', 'el', 'e…"
            ]
          },
          "metadata": {}
        }
      ]
    },
    {
      "cell_type": "markdown",
      "metadata": {
        "id": "LRpHl_8DnvDF"
      },
      "source": [
        "Dropdown(options=('all', 'am', 'ar', 'bg', 'bn', 'bo', 'ca', 'ckb', 'cs', 'cy', 'da', 'de', 'dv', 'el', 'en', …\n",
        "Filtering the dataset by language\n",
        "After selecting the desired language, the following code will perform the corresponding filtering to show only the records in the dataset that have the selected language (in a new tsv file called dataset-filtered.tsv). If there's no language filter, no filter process will be taken (but the file name will be dataset-filtered.tsv anyways)"
      ]
    },
    {
      "cell_type": "code",
      "metadata": {
        "id": "0RnI00fRnwfS"
      },
      "source": [
        "#Creates a new clean dataset with the specified language (if specified)\n",
        "filtered_language = lang_picker.value\n",
        "\n",
        "#If no language specified, it will get all records from the dataset\n",
        "if filtered_language == \"\":\n",
        "  copyfile('dataset.tsv', 'dataset-filtered.tsv')\n",
        "\n",
        "#If language specified, it will create another tsv file with the filtered records\n",
        "else:\n",
        "  filtered_tw = list()\n",
        "  current_line = 1\n",
        "  with open(\"dataset.tsv\") as tsvfile:\n",
        "    tsvreader = csv.reader(tsvfile, delimiter=\"\\t\")\n",
        "\n",
        "    if current_line == 1:\n",
        "      filtered_tw.append(linecache.getline(\"dataset.tsv\", current_line))\n",
        "\n",
        "      for line in tsvreader:\n",
        "        if line[3] == filtered_language:\n",
        "          filtered_tw.append(linecache.getline(\"dataset.tsv\", current_line))\n",
        "        current_line += 1\n",
        "\n",
        "  print('\\033[1mShowing first 5 tweets from the filtered dataset\\033[0m')\n",
        "  print(filtered_tw[1:(6 if len(filtered_tw) > 6 else len(filtered_tw))])\n",
        "\n",
        "  with open('dataset-filtered.tsv', 'w') as f_output:\n",
        "      for item in filtered_tw:\n",
        "          f_output.write(item)"
      ],
      "execution_count": null,
      "outputs": []
    },
    {
      "cell_type": "markdown",
      "metadata": {
        "id": "E2grRTsVnzCw"
      },
      "source": [
        "Showing first 5 tweets from the filtered dataset\n",
        "['1351757472873197568\\t2021-01-20\\t05:04:30\\tes\\tNULL\\n', '1351757472965353477\\t2021-01-20\\t05:04:30\\tes\\tNULL\\n', '1351757481723240448\\t2021-01-20\\t05:04:32\\tes\\tNULL\\n', '1351757481727455234\\t2021-01-20\\t05:04:32\\tes\\tNULL\\n', '1351757488706760705\\t2021-01-20\\t05:04:34\\tes\\tNULL\\n']\n",
        "Introducing our Twitter credentials to authenticate\n",
        "Accessing the Twitter APIs requires a set of credentials that you must pass with each request. These credentials can come in different forms depending on the type of authentication that is required by the specific endpoint that you are using. More information: https://developer.twitter.com/en/docs/apps/overview\n",
        "\n",
        "The credentials can be obtained from the developer portal (https://developer.twitter.com/en/portal/dashboard) and they look like these ones:\n",
        "\n",
        "IMPORTANT: The following code will also generate an api_keys.json (With the twitter credentials entered) that will be required later."
      ]
    },
    {
      "cell_type": "code",
      "metadata": {
        "id": "eCOfyi7yn3cv"
      },
      "source": [
        "import json\n",
        "import tweepy\n",
        "from tweepy import OAuthHandler\n",
        "\n",
        "# Authenticate\n",
        "CONSUMER_KEY = \"\" #@param {type:\"string\"}\n",
        "CONSUMER_SECRET_KEY = \"\" #@param {type:\"string\"}\n",
        "ACCESS_TOKEN_KEY = \"\" #@param {type:\"string\"}\n",
        "ACCESS_TOKEN_SECRET_KEY = \"\" #@param {type:\"string\"}\n",
        "BEARER_TOKEN_KEY = \"\"#@param {type:\"string\"}\n",
        "#Creates a JSON Files with the API credentials\n",
        "with open('api_keys.json', 'w') as outfile:\n",
        "    json.dump({\n",
        "    \"consumer_key\":CONSUMER_KEY,\n",
        "    \"consumer_secret\":CONSUMER_SECRET_KEY,\n",
        "    \"access_token\":ACCESS_TOKEN_KEY,\n",
        "    \"access_token_secret\": ACCESS_TOKEN_SECRET_KEY,\n",
        "    \"bearer_token\": BEARER_TOKEN_KEY\n",
        "     }, outfile)\n",
        "\n",
        "#The lines below are just to test if the twitter credentials are correct\n",
        "#Authenticate\n",
        "auth = tweepy.AppAuthHandler(CONSUMER_KEY, CONSUMER_SECRET_KEY)\n",
        "\n",
        "api = tweepy.API(auth, wait_on_rate_limit=True,\n",
        "\t\t\t\t   wait_on_rate_limit_notify=True)\n",
        "\n",
        "if (not api):\n",
        "   print (\"Can't Authenticate\")\n",
        "   sys.exit(-1)"
      ],
      "execution_count": 4,
      "outputs": []
    },
    {
      "cell_type": "markdown",
      "metadata": {
        "id": "_t0drxH5n5S_"
      },
      "source": [
        "Hydrating the tweets (filtered dataset)\n",
        "Before parsing the dataset, an hydration process is required. In this tutorial it is done by using the following social media mining tool: https://github.com/thepanacealab/SMMT\n",
        "\n",
        "To perform this action, a python file from that repository is required (get_metadata.py) and can be obtained in the following way:"
      ]
    },
    {
      "cell_type": "markdown",
      "metadata": {
        "id": "H9GXnNtFzbMB"
      },
      "source": [
        ""
      ]
    },
    {
      "cell_type": "code",
      "metadata": {
        "id": "b0ACCEFon6uC"
      },
      "source": [
        "from IPython.display import clear_output\n",
        "\n",
        "!wget https://raw.githubusercontent.com/cagri32/Analyzing-the-Extent-of-Polarization-around-COVID-19-Policies-using-Social-Media/main/sample-data/get_metadata.py -O get_metadata.py\n",
        "\n",
        "clear_output()"
      ],
      "execution_count": 5,
      "outputs": []
    },
    {
      "cell_type": "markdown",
      "metadata": {
        "id": "w4A4eL9mn7_X"
      },
      "source": [
        "This utility will take a file which meets the following requirements:\n",
        "*   A csv file which either contains one tweet id per line or contains at least one column of tweet ids\n",
        "*   A text file which contains one tweet id per line\n",
        "*   A tsv file which either contains one tweet id per line or contains at least one column of tweet ids\n",
        "\n",
        "For this case, the filtered dataset generated before (dataset-filtered.tsv), which is in TSV format will be used for the hydration process\n",
        "\n",
        "The arguments for this utily (get_metadata.py) are the following:\n",
        "\n",
        "*  arguments.png\n",
        "\n",
        "**PLEASE NOTE**: The -k argument refers to the json file with the Twitter credentials generated before (api_keys.json)"
      ]
    },
    {
      "cell_type": "code",
      "metadata": {
        "id": "NNff2xHdoEZQ",
        "colab": {
          "base_uri": "https://localhost:8080/"
        },
        "outputId": "237541ca-b446-4349-f59d-ec7f0e283609"
      },
      "source": [
        "!python get_metadata.py -i dataset-filtered.tsv -o hydrated_tweets -k api_keys.json\n"
      ],
      "execution_count": 23,
      "outputs": [
        {
          "output_type": "stream",
          "name": "stdout",
          "text": [
            "Your twitter api credentials are valid.\n",
            "hydrated_tweets\n",
            "tab seperated file, using \\t delimiter\n",
            "total ids: 1491152\n",
            "metadata collection complete\n",
            "creating master json file\n",
            "currently getting 0 - 100\n",
            "currently getting 100 - 200\n",
            "currently getting 200 - 300\n",
            "currently getting 300 - 400\n",
            "currently getting 400 - 500\n",
            "creating ziped master json file\n",
            "creating minimized json master file\n",
            "creating CSV version of minimized json master file\n"
          ]
        }
      ]
    },
    {
      "cell_type": "markdown",
      "metadata": {
        "id": "sI-9saZgoIzi"
      },
      "source": [
        "From the code above, the output will generate four files:\n",
        "\n",
        "*  A hydrated_tweets.json file which contains the full json object for each of the hydrated tweets\n",
        "*  A hydrated_tweets.CSV file which contains partial fields extracted from the tweets.\n",
        "*  A hydrated_tweets.zip file which contains a zipped version of the tweets_full.json file.\n",
        "*  A hydrated_tweets_short.json which contains a shortened version of the hydrated tweets.\n",
        "\n",
        "For this tutorial, we will use the hydrated_tweets_short.json file to parse all their tweets.\n",
        "\n",
        "Parsing the tweets\n",
        "Requirements\n",
        "For this process, the following files are required and can be obtained from here:\n",
        "\n",
        "*  https://raw.githubusercontent.com/thepanacealab/SMMT/master/data_preprocessing/parse_json_lite.py\n",
        "*  https://raw.githubusercontent.com/thepanacealab/SMMT/master/data_preprocessing/fields.py\n",
        "\n",
        "Also the following modules are required:\n",
        "\n",
        "Emot\n",
        "\n",
        "Emoji"
      ]
    },
    {
      "cell_type": "code",
      "metadata": {
        "id": "Nyu1RG7YoKFW"
      },
      "source": [
        "from IPython.display import clear_output\n",
        "\n",
        "!wget https://raw.githubusercontent.com/thepanacealab/SMMT/master/data_preprocessing/parse_json_lite.py -O parse_json_lite.py\n",
        "!wget https://raw.githubusercontent.com/thepanacealab/SMMT/master/data_preprocessing/fields.py -O fields.py\n",
        "\n",
        "!pip install emot --upgrade\n",
        "!pip install emoji --upgrade\n",
        "\n",
        "clear_output()"
      ],
      "execution_count": 7,
      "outputs": []
    },
    {
      "cell_type": "markdown",
      "metadata": {
        "id": "-uyTspT9oLni"
      },
      "source": [
        "Pulling a sample set from the tweets\n",
        "For this tutorial, we are going to get a sample of N tweets from the hydrated dataset generated before (hydrated_tweets_short.json). The code below will generate a new JSON file (sample_data.json) with the number of samples specified.\n",
        "\n",
        "PLEASE NOTE: The code below will extract N samples from the hydrated tweets randomly"
      ]
    },
    {
      "cell_type": "markdown",
      "metadata": {
        "id": "-0cgCW8_0bII"
      },
      "source": [
        "**We don't need this part for our project**"
      ]
    },
    {
      "cell_type": "code",
      "metadata": {
        "id": "BmBJRURyoMWE"
      },
      "source": [
        "# import random \n",
        "\n",
        "# no_samples = \"1000\" #@param {type:\"string\"}\n",
        "# list_tweets = None\n",
        "\n",
        "# with open(\"hydrated_tweets_short.json\", \"r\") as myfile:\n",
        "#     list_tweets = list(myfile)\n",
        "\n",
        "# if int(no_samples) > len(list_tweets):\n",
        "#     no_samples = len(list_tweets)\n",
        "\n",
        "# sample = random.sample(list_tweets, int(no_samples))\n",
        "\n",
        "# file = open(\"sample_data.json\", \"w\")\n",
        "# for i in sample:\n",
        "#   file.write(i)\n",
        "# file.close() #This close() is important"
      ],
      "execution_count": null,
      "outputs": []
    },
    {
      "cell_type": "markdown",
      "metadata": {
        "id": "lOtpKlPjoOCj"
      },
      "source": [
        "# Parsing the tweets\n",
        "\n",
        "**parse_json_lite.py**: The first argument is the json file. The second argument is optional. If the second argument is given, it will preprocess the json file. The preprocessing includes removal of URLs, twitter specific Urls, Emojis, Emoticons. The second argument (if given) must be \"p\" for the preprocessing work\n",
        "\n",
        "The following code will extract all fields in a JSON file (sample_data.json in this case). Here is a list of all available fields: https://developer.twitter.com/en/docs/twitter-api/v1/data-dictionary/object-model/tweet\n",
        "\n",
        "Keep in mind that some fields could have null or empty values."
      ]
    },
    {
      "cell_type": "markdown",
      "metadata": {
        "id": "1Gw088O00nQ8"
      },
      "source": [
        "**We don't need this part for our project**"
      ]
    },
    {
      "cell_type": "code",
      "metadata": {
        "id": "kgbagFjJoQgu"
      },
      "source": [
        "# !python parse_json_lite.py sample_data.json p\n",
        "\n",
        "# clear_output()"
      ],
      "execution_count": null,
      "outputs": []
    },
    {
      "cell_type": "markdown",
      "metadata": {
        "id": "n0CsYO5hoRoh"
      },
      "source": [
        "Counting the unique words from a sample set\n",
        "Given the previous sample dataset (from sample_data.json), the following code will count all the unique words (with it's frequency) in a pandas Dataframe.\n",
        "\n",
        "For practical purposes, the first 20 most used words in the dataset sample are shown in the output (this variable can be modified below)."
      ]
    },
    {
      "cell_type": "markdown",
      "metadata": {
        "id": "vZ36owcx0r2w"
      },
      "source": [
        "**We don't need this part for our project**"
      ]
    },
    {
      "cell_type": "code",
      "metadata": {
        "id": "ybvuwnWPoSIo"
      },
      "source": [
        "# import pandas as pd\n",
        "# from collections import Counter\n",
        "# import matplotlib.pyplot as plt\n",
        "\n",
        "# no_top_unique_words = \"20\" #@param {type:\"string\"}\n",
        "\n",
        "# df = pd.read_csv('sample_data.tsv',sep=\"\\t\")\n",
        "\n",
        "# result = Counter(\" \".join(df['text'].values.tolist()).split(\" \")).items()\n",
        "# df2 = pd.DataFrame(result)\n",
        "# df2.columns =['Word', 'Frequency']\n",
        "# df2 = df2[df2.Word != \"\"] #Deletes the empty spaces counted\n",
        "# df2 = df2.sort_values(['Frequency'], ascending=[False]) #Sort dataframe by frequency (Descending)\n",
        "\n",
        "# print('\\033[1mTop '+no_top_unique_words+' most unique words used from the dataset\\033[0m \\n')\n",
        "# print(df2.head(int(no_top_unique_words)).to_string(index=False)) #Prints the top N unique words used\n",
        "# print(\"\\n\")\n",
        "# df3 = df2.head(int(no_top_unique_words))\n",
        "# df3.plot(y='Frequency', kind='pie', labels=df3['Word'], figsize=(9, 9), autopct='%1.1f%%', title='Top '+no_top_unique_words+' most unique words used from the dataset')"
      ],
      "execution_count": null,
      "outputs": []
    },
    {
      "cell_type": "markdown",
      "metadata": {
        "id": "GA4FIY2poT90"
      },
      "source": [
        "Top 20 most unique words used from the dataset \n",
        "\n",
        "     Word  Frequency\n",
        "       de        820\n",
        "       la        391\n",
        "       el        359\n",
        "       en        325\n",
        "      que        282\n",
        "        y        266\n",
        "        a        264\n",
        "      por        167\n",
        "      los        167\n",
        "      del        132\n",
        "       se        131\n",
        "      las        127\n",
        "     para        121\n",
        "      con        107\n",
        "       no        103\n",
        "   contra        100\n",
        "       un         90\n",
        "       El         90\n",
        " Covid-19         87\n",
        "       es         77\n",
        "\n",
        "\n",
        "Out[ ]:\n",
        "<matplotlib.axes._subplots.AxesSubplot at 0x7f2f7ab2e908>"
      ]
    },
    {
      "cell_type": "code",
      "metadata": {
        "id": "Iz7np0pkNODM"
      },
      "source": [
        "# To download a file that is created in Colab:\n",
        "\n",
        "# from google.colab import files\n",
        "# files.download(\"hydrated_tweets.zip\")"
      ],
      "execution_count": null,
      "outputs": []
    },
    {
      "cell_type": "code",
      "metadata": {
        "colab": {
          "base_uri": "https://localhost:8080/"
        },
        "id": "gyJGHTNHq2gV",
        "outputId": "f5234439-e742-4c33-b3da-96f4f99e6819"
      },
      "source": [
        "!python get_metadata.py -i dataset-filtered.tsv -o hydrated_tweets -k api_keys.json"
      ],
      "execution_count": 31,
      "outputs": [
        {
          "output_type": "stream",
          "name": "stdout",
          "text": [
            "Your twitter api credentials are valid.\n",
            "hydrated_tweets\n",
            "tab seperated file, using \\t delimiter\n",
            "total ids: 1491152\n",
            "metadata collection complete\n",
            "creating master json file\n",
            "currently getting 0 - 100\n",
            "currently getting 100 - 200\n",
            "currently getting 200 - 300\n",
            "currently getting 300 - 400\n",
            "currently getting 400 - 500\n",
            "creating ziped master json file\n",
            "creating minimized json master file\n",
            "creating CSV version of minimized json master file\n"
          ]
        }
      ]
    },
    {
      "cell_type": "code",
      "metadata": {
        "colab": {
          "base_uri": "https://localhost:8080/"
        },
        "id": "CYFxiVFkkKIt",
        "outputId": "6c3cc20e-b3fc-411a-9645-2802fc7de190"
      },
      "source": [
        "!python main.py"
      ],
      "execution_count": 34,
      "outputs": [
        {
          "output_type": "stream",
          "name": "stdout",
          "text": [
            "[(11392912, '2911221'), (4849148157, '18329263'), (42358442, '128429068'), (1319307451200581632, '1249982359'), (1294920757437509632, '1294920757437509632'), (5385802, '21059255'), (246001930, '38978018'), (24816708, '247507520'), (1942592300, '1228754267835707399'), (81644444, '817976607398731776'), (1238835715875557379, '1235970884113850368'), (1170102547798847488, '14335586'), (258564911, '848148994102611969'), (147036773, '1626294277'), (250137471, '42971403'), (1106919002306011136, '140047339'), (1159220630329233409, '24611925'), (17515151, '18831926'), (3615421342, '18831926'), (1345996543, '1507338108'), (26078080, '1323730225067339784'), (1211754137995530240, '358545917'), (291947329, '16927893'), (1134653881454080000, '1131465805097447424'), (223542622, '976849451984867328'), (485497413, '956985015673303040'), (401598422, '20583993'), (980848637453447173, '2921790230'), (1246016557714735105, '553581707'), (1311631033507475457, '792096589191852033'), (257019790, '15495464'), (1287751867, '32871086'), (726483853607493633, '71150575'), (277609784, '1145279035007754241'), (2310919691, '14085040'), (1309608304805474309, '87818409'), (2919647173, '180659655'), (147344582, '18831926'), (120484360, '11744152'), (709794889, '4170889399'), (29287324, '39308549'), (174323991, '18332190'), (3951457937, '65159946'), (976922188925341698, '812807713'), (376317678, '1138076821533155328'), (211561223, '767942137417572352'), (1289622860143656964, '16012783'), (1321822487408074753, '535643852'), (564528868, '1017648744299356160'), (3426915314, '358545917'), (2305563439, '812135885328236551'), (1259366573825032193, '455024343'), (1259366573825032193, '66369181'), (231202853, '824148472534302724'), (748964149, '450525696'), (2337790794, '14335586'), (230492969, '553581707'), (1069873823057633280, '21366823'), (713885365, '2561714864'), (825672606112157696, '32871086'), (792995834, '358545917'), (29897850, '720139699'), (139498464, '1626294277'), (710810649060741120, '1507338108'), (37984018, '14335586'), (1608587778, '105284185'), (379517721, '4696552878'), (807533767992705024, '1138076821533155328'), (4924254321, '98330155'), (1859272753, '71150575'), (882295790441562113, '759251'), (226540001, '3047925973'), (919630476947505152, '55857464'), (1224014733692399616, '1917731'), (1224014733692399616, '84734907'), (1253232424030359553, '355989081'), (998742740392275968, '181419468'), (340818984, '14293310'), (340818984, '140047339'), (502341024, '196168350'), (2338197726, '16799023'), (1207049379020001280, '21522338'), (2971071490, '1578064406'), (940940460884877312, '13218102'), (45282372, '2423370157'), (327720735, '358545917'), (1726471404, '997682274'), (234259188, '1254412448'), (1158070867487838208, '802690892628774913'), (811053321632915460, '18831926'), (1182346921920348161, '499073990'), (1544129365, '71150575'), (717417631, '18831926'), (18995147, '18831926'), (824162165561114624, '1222796311168077824'), (1023585170669154304, '3106815751'), (909078369907613696, '825922405453402115'), (1168377558309789696, '3047925973'), (2256120033, '715276822489997312'), (925949911039971328, '215207998'), (271810739, '25919401'), (2806007370, '1228754267835707399'), (883767825197801472, '1077178397300834304'), (1035000759446855682, '71150575'), (790294532273209344, '1043185714437992449'), (978659117949734913, '953924228306305024'), (82836054, '955821725857525760'), (209492408, '20986375'), (99014337, '1414858003'), (2480186806, '755057897583804416'), (1132489887414968321, '11744152'), (1243112042224947200, '50944856'), (594318174, '71150575'), (1001226745519915008, '451192624'), (2208155712, '71150575'), (728076621169590273, '11744152'), (1196473380335050752, '3204731'), (1969078278, '18831926'), (1231797722660904960, '553581707'), (2313069740, '1011970623470489601'), (592499892, '1138076821533155328'), (583185555, '11744152'), (70055480, '215207998'), (611647383, '553581707'), (114048914, '128429068'), (211609350, '1254412448'), (937576886783295488, '851985789072408576'), (1313249021679611904, '358545917'), (43571914, '1323730225067339784'), (1246638528907313152, '23773465'), (60231171, '774407512598704128'), (4349585295, '825922405453402115'), (273788443, '2463200455'), (3113310014, '139162440'), (111842654, '2985479932'), (1271299993438236673, '10774652'), (467804571, '767942137417572352'), (813292471975366656, '32871086'), (863268360, '65970675'), (318921346, '14293310'), (1082201922260496385, '55857464'), (572282251, '2347049341'), (1224211230002335744, '34367582'), (919463268, '1228754267835707399'), (18656865, '32871086'), (348120551, '215207998'), (60342790, '11744152'), (602449513, '18831926'), (1008465608814579714, '1064371027575271430'), (921289326, '1323730225067339784'), (851239265329496065, '18831926'), (29468402, '18831926'), (1315638398007169024, '358545917'), (1033321385198796802, '1626294277'), (2437692727, '32871086'), (1438589898, '1626294277'), (795402912151244800, '1631509880'), (128899415, '191881312'), (1676921281, '34367582'), (351979030, '783792992'), (813911852946231297, '812135885328236551'), (1283430550418661376, '1021450093444993024'), (1229230225549971456, '15874918'), (1086397159480676352, '93618872'), (29828365, '55857464'), (860660310796976128, '55857464'), (1241457716935172096, '786807645894156288'), (1452796758, '292929271'), (20255785, '215207998'), (819960399428800512, '55857464'), (2312751031, '1085522008471818240'), (702697553414873088, '11744152'), (716762814, '812135885328236551'), (1286486512293486592, '1077178397300834304'), (2736645504, '812135885328236551'), (1214402708548964353, '18329263'), (889689392561872896, '15874918'), (161078142, '767942137417572352'), (3837829873, '767942137417572352'), (875967918747430913, '767942137417572352'), (1187237965266857984, '55857464'), (1237025286702727168, '1323730225067339784'), (979644647017336833, '3204731'), (597031193, '812135885328236551'), (1048580212148068352, '546135718'), (3098689843, '35328942'), (18247332, '1138076821533155328'), (23125241, '13410'), (935498897077735424, '428333'), (828440635917160448, '817976607398731776'), (23284066, '18831926'), (1082210022808002560, '341194704'), (178978113, '146569971'), (1219175391773876224, '1153682741780598785'), (268982264, '261025025'), (2217063241, '258146125'), (216872533, '499073990'), (117316720, '1323730225067339784'), (14904898, '14260960'), (1178289247637295106, '90672407'), (894531600, '1134506110034108416'), (1909483010, '14335586'), (1004773069, '64643056'), (526587102, '792096589191852033'), (25429149, '953924228306305024'), (1161885079, '71150575'), (2605835507, '553581707'), (140538505, '953924228306305024'), (2221891536, '1500129642'), (842051811003449345, '20751449'), (1252185440, '49683752'), (1244620955537887232, '420366322'), (1215284427493978112, '705694814612938752'), (827043384518856707, '927388044'), (1064552964, '1138076821533155328'), (1565014074, '59533564'), (2762026971, '301309392'), (1268388239867445250, '84734907'), (886091140151115776, '279777404'), (286207273, '22993014'), (126557046, '1626294277'), (1134593639546609664, '1011970623470489601'), (56589400, '18831926'), (97970376, '31047836'), (109900347, '32871086'), (1290294456231645184, '98330155'), (390755853, '32871086'), (597564319, '74980737'), (3041768317, '1138076821533155328'), (2487112411, '55857464'), (35398088, '18831926'), (822803918216380417, '11744152'), (1299707466696077312, '358545917'), (147863727, '13410'), (1165452768376762369, '71150575'), (779527519384981504, '17146018'), (162293903, '1138076821533155328'), (417386508, '783792992'), (54885969, '45586617'), (848471491809341440, '1510470294'), (801508730034475008, '18831926'), (759818948686802944, '14173315'), (758483289464184832, '1011970623470489601'), (785504332342972416, '16012783'), (535420770, '176035180'), (294905129, '826226272418283520'), (243929133, '7050962'), (1222702755162345473, '1138076821533155328'), (817488870686101504, '1507338108'), (3044871157, '23954775')]\n",
            "DiGraph with 393 nodes and 250 edges\n"
          ]
        }
      ]
    }
  ]
}